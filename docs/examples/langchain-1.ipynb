{
 "cells": [
  {
   "cell_type": "markdown",
   "metadata": {},
   "source": [
    "## 安装 condoa\n",
    "```bash\n",
    " conda create -n ai-learn python=3.12\n",
    " conda activate ai-learn\n",
    "```"
   ]
  },
  {
   "cell_type": "code",
   "execution_count": null,
   "metadata": {},
   "outputs": [],
   "source": [
    "# 执行以下命令安装必要的包\n",
    "%pip install -U langchain==\"0.3.23\"\n",
    "%pip install -U langchain-openai==\"0.3.4\""
   ]
  },
  {
   "cell_type": "code",
   "execution_count": null,
   "metadata": {},
   "outputs": [
    {
     "name": "stdout",
     "output_type": "stream",
     "text": [
      "0.3.23\n"
     ]
    }
   ],
   "source": [
    "# 验证langchain版本\n",
    "import langchain \n",
    "print(langchain.__version__)\n",
    "assert langchain.__version__ == \"0.3.23\""
   ]
  },
  {
   "cell_type": "code",
   "execution_count": null,
   "metadata": {},
   "outputs": [
    {
     "name": "stdout",
     "output_type": "stream",
     "text": [
      "Hello! How can I assist you today?"
     ]
    }
   ],
   "source": [
    "# langchain chat demo\n",
    "from langchain_openai import ChatOpenAI\n",
    "\n",
    "chat_model = ChatOpenAI(model=\"openai/gpt-4o\",\n",
    "    base_url=\"https://openrouter.ai/api/v1\", api_key=\"9441b13\")\n",
    "for chunk in chat_model.stream( input= \"hello\" ):\n",
    "    print(chunk.content,end=\"\")\n"
   ]
  }
 ],
 "metadata": {
  "kernelspec": {
   "display_name": "ai-learn",
   "language": "python",
   "name": "python3"
  },
  "language_info": {
   "codemirror_mode": {
    "name": "ipython",
    "version": 3
   },
   "file_extension": ".py",
   "mimetype": "text/x-python",
   "name": "python",
   "nbconvert_exporter": "python",
   "pygments_lexer": "ipython3",
   "version": "3.12.9"
  }
 },
 "nbformat": 4,
 "nbformat_minor": 2
}

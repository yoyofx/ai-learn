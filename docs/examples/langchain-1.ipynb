{
 "cells": [
  {
   "cell_type": "markdown",
   "metadata": {},
   "source": [
    "## 安装 condoa\n",
    "```bash\n",
    " conda create -n ai-learn python=3.12\n",
    " conda activate ai-learn\n",
    "```"
   ]
  },
  {
   "cell_type": "code",
   "execution_count": null,
   "metadata": {},
   "outputs": [],
   "source": [
    "# 执行以下命令安装必要的包\n",
    "%pip install -U langchain==\"0.3.23\"\n",
    "%pip install -U langchain-openai==\"0.3.4\""
   ]
  },
  {
   "cell_type": "code",
   "execution_count": null,
   "metadata": {},
   "outputs": [
    {
     "name": "stdout",
     "output_type": "stream",
     "text": [
      "0.3.23\n"
     ]
    }
   ],
   "source": [
    "# 验证langchain版本\n",
    "import langchain \n",
    "print(langchain.__version__)\n",
    "assert langchain.__version__ == \"0.3.23\""
   ]
  },
  {
   "cell_type": "code",
   "execution_count": null,
   "metadata": {},
   "outputs": [
    {
     "name": "stdout",
     "output_type": "stream",
     "text": [
      "嗨！"
     ]
    }
   ],
   "source": [
    "# langchain chat demo\n",
    "from langchain_openai import ChatOpenAI\n",
    "from langchain_core.messages import HumanMessage, SystemMessage\n",
    "\n",
    "chat_model = ChatOpenAI(model=\"openai/gpt-4o\",\n",
    "    base_url=\"https://openrouter.ai/api/v1\", api_key=\"adb215b82fc822a595306ea18fce2df4536a1c6325b55c47f538f03eb9441b13\")\n",
    "\n",
    "messages=[\n",
    "    SystemMessage(\"Translate the following from English into Chinese.\"),\n",
    "    HumanMessage(\"hi!\"),\n",
    "]\n",
    "\n",
    "\n",
    "for chunk in chat_model.stream( input= messages ):\n",
    "    print(chunk.content,end=\"\")\n",
    "\n",
    "\n",
    "\n",
    "\n"
   ]
  },
  {
   "cell_type": "code",
   "execution_count": null,
   "metadata": {},
   "outputs": [
    {
     "name": "stdout",
     "output_type": "stream",
     "text": [
      ".....loading tools.....\n",
      "现在是北京时间 2025年4月21日，晚上7:56。北京的天气晴朗，最高温度为72°F（约22°C）。\n"
     ]
    }
   ],
   "source": [
    "# langgraph & mcp \n",
    "#%pip install -qU langchain-mcp-adapters==0.0.9\n",
    "#%pip install -qU langgraph==0.3.31\n",
    "\n",
    "from mcp import ClientSession, StdioServerParameters\n",
    "from mcp.client.stdio import stdio_client\n",
    "from langchain_mcp_adapters.tools import load_mcp_tools\n",
    "from langchain_mcp_adapters.client import MultiServerMCPClient\n",
    "from langchain_core.messages import SystemMessage, HumanMessage\n",
    "from langchain_openai import ChatOpenAI\n",
    "from dotenv import load_dotenv\n",
    "from langgraph.prebuilt import create_react_agent\n",
    "import os\n",
    "\n",
    "load_dotenv()\n",
    "\n",
    "llm = ChatOpenAI(model=\"openai/gpt-4o\",\n",
    "    base_url=\"https://openrouter.ai/api/v1\", api_key=\"fc822a595306ea18fce2df4536a1c6325b55c47f538f03eb9441b13\")\n",
    "\n",
    "async with MultiServerMCPClient(\n",
    "    {\n",
    "        \"weather\": {  # 启动weather服务\n",
    "            # make sure you start your weather server on port 8000\n",
    "            \"url\": \"http://localhost:8000/sse\",\n",
    "            \"transport\": \"sse\",\n",
    "        },\n",
    "        \"mcp-server-time\": {\n",
    "            \"command\": \"python\",\n",
    "            \"args\": [\"-m\", \"mcp_server_time\", \"--local-timezone=Asia/Shanghai\"]\n",
    "        }\n",
    "    }\n",
    ") as client:\n",
    "    print(\".....loading tools.....\")\n",
    "    agent = create_react_agent(llm, client.get_tools())\n",
    "    weather_response = await agent.ainvoke({\"messages\": \"现在这个时间,北京的天气怎么样?\"})\n",
    "    \n",
    "    print(weather_response[\"messages\"][-1].content)\n",
    "    # inputs = {\"messages\": [(\"user\", \"北京的天气怎么样?\")]}\n",
    "\n",
    "    # for chunk in agent.stream( inputs , stream_mode=\"values\"):\n",
    "    #      message = chunk[\"messages\"][-1]\n",
    "    #      message.pretty_print()\n"
   ]
  },
  {
   "cell_type": "markdown",
   "metadata": {},
   "source": []
  }
 ],
 "metadata": {
  "kernelspec": {
   "display_name": "ai-learn",
   "language": "python",
   "name": "python3"
  },
  "language_info": {
   "codemirror_mode": {
    "name": "ipython",
    "version": 3
   },
   "file_extension": ".py",
   "mimetype": "text/x-python",
   "name": "python",
   "nbconvert_exporter": "python",
   "pygments_lexer": "ipython3",
   "version": "3.12.9"
  }
 },
 "nbformat": 4,
 "nbformat_minor": 2
}

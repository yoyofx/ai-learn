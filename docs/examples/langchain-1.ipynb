{
 "cells": [
  {
   "cell_type": "markdown",
   "metadata": {},
   "source": [
    "## 安装 condoa\n",
    "```bash\n",
    " conda create -n ai-learn python=3.12\n",
    " conda activate ai-learn\n",
    "```"
   ]
  },
  {
   "cell_type": "code",
   "execution_count": null,
   "metadata": {},
   "outputs": [],
   "source": [
    "# 执行以下命令安装必要的包\n",
    "%pip install -U langchain==\"0.3.23\""
   ]
  },
  {
   "cell_type": "code",
   "execution_count": null,
   "metadata": {},
   "outputs": [
    {
     "name": "stdout",
     "output_type": "stream",
     "text": [
      "0.3.23\n"
     ]
    }
   ],
   "source": [
    "# 验证langchain版本\n",
    "import langchain \n",
    "print(langchain.__version__)\n",
    "assert langchain.__version__ == \"0.3.23\""
   ]
  }
 ],
 "metadata": {
  "kernelspec": {
   "display_name": "ai-learn",
   "language": "python",
   "name": "python3"
  },
  "language_info": {
   "codemirror_mode": {
    "name": "ipython",
    "version": 3
   },
   "file_extension": ".py",
   "mimetype": "text/x-python",
   "name": "python",
   "nbconvert_exporter": "python",
   "pygments_lexer": "ipython3",
   "version": "3.12.9"
  }
 },
 "nbformat": 4,
 "nbformat_minor": 2
}
